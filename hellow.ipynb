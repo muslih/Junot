{
 "cells": [
  {
   "cell_type": "code",
   "execution_count": null,
   "id": "9627afaa-2538-495b-b3ba-51502895cdfa",
   "metadata": {},
   "outputs": [],
   "source": [
    "print(\"Hellow\")"
   ]
  }
 ],
 "metadata": {
  "kernelspec": {
   "display_name": "Python 3 (ipykernel)",
   "language": "python",
   "name": "python3"
  },
  "language_info": {
   "codemirror_mode": {
    "name": "ipython",
    "version": 3
   },
   "file_extension": ".py",
   "mimetype": "text/x-python",
   "name": "python",
   "nbconvert_exporter": "python",
   "pygments_lexer": "ipython3",
   "version": "3.10.10"
  }
 },
 "nbformat": 4,
 "nbformat_minor": 5
}
